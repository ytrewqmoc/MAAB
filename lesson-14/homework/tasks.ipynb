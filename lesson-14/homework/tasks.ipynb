{
 "cells": [
  {
   "cell_type": "code",
   "execution_count": 9,
   "metadata": {},
   "outputs": [
    {
     "name": "stdout",
     "output_type": "stream",
     "text": [
      "['0.00', '20.00', '37.78', '100.00', '25.00']\n"
     ]
    }
   ],
   "source": [
    "import numpy as np\n",
    "from matplotlib import pyplot as plt\n",
    "\n",
    "\n",
    "@np.vectorize\n",
    "def f(c):\n",
    "    return (c - 32) * (5/9)\n",
    "\n",
    "temp_f = np.array([32, 68, 100, 212, 77])\n",
    "temp_c = f(temp_f)\n",
    "print([f\"{x:.2f}\" for x in temp_c])"
   ]
  },
  {
   "cell_type": "code",
   "execution_count": 8,
   "metadata": {},
   "outputs": [
    {
     "name": "stdout",
     "output_type": "stream",
     "text": [
      "[  2   9  64 625]\n"
     ]
    }
   ],
   "source": [
    "@np.vectorize\n",
    "def to_power(x, y):\n",
    "    return np.power(x, y)\n",
    "\n",
    "numbers = np.array([2, 3, 4, 5])\n",
    "powers = np.array([1, 2, 3, 4])\n",
    "result = to_power(numbers, powers)\n",
    "print(result)"
   ]
  },
  {
   "cell_type": "code",
   "execution_count": 10,
   "metadata": {},
   "outputs": [
    {
     "name": "stdout",
     "output_type": "stream",
     "text": [
      "[ 1.7027027   0.62162162 -0.48648649]\n"
     ]
    }
   ],
   "source": [
    "A = np.array([[4, 5, 6],\n",
    "              [3, -1, 1],\n",
    "              [2, 1, -2]])\n",
    "B = np.array([7, 4, 5])\n",
    "\n",
    "solution = np.linalg.solve(A, B)\n",
    "print(solution)"
   ]
  },
  {
   "cell_type": "code",
   "execution_count": 11,
   "metadata": {},
   "outputs": [
    {
     "name": "stdout",
     "output_type": "stream",
     "text": [
      "[ 0.49 -0.23  2.22]\n"
     ]
    }
   ],
   "source": [
    "C = np.array([\n",
    "    [10, -2, 3],\n",
    "    [-2, 8, -1],\n",
    "    [3, -1, 6]\n",
    "])\n",
    "\n",
    "D = np.array([12, -5, 15])\n",
    "solution2 = np.linalg.solve(C, D)\n",
    "print(np.round(solution2, 2))"
   ]
  },
  {
   "cell_type": "code",
   "execution_count": 16,
   "metadata": {},
   "outputs": [],
   "source": [
    "from PIL import Image\n",
    "\n",
    "def flip_img_(img):\n",
    "    horizontal_flip = np.fliplr(img)\n",
    "    vertical_flip = np.flipud(img)\n",
    "    return horizontal_flip, vertical_flip\n",
    "\n",
    "def add_noise(img_array, noise_level=30):\n",
    "    noise = np.random.randint(-noise_level, noise_level, img_array.shape, dtype=np.int16)\n",
    "    noisy_image = img_array.astype(np.int16) + noise\n",
    "    noisy_image = np.clip(noisy_image, 0, 255)\n",
    "    return noisy_image.astype(np.uint8)\n",
    "\n",
    "def brighten_channel(img_array, channel=0, brightness=40):\n",
    "    img_bright = img_array.copy()\n",
    "    img_bright[..., channel] = np.clip(img_bright[..., channel] + brightness, 0, 255)\n",
    "    return img_bright\n",
    "\n",
    "def apply_mask(img_array, mask_size=(100, 100)):\n",
    "    img_masked = img_array.copy()\n",
    "    h, w, _ = img_array.shape\n",
    "    cx, cy = w // 2, h // 2 \n",
    "    x1, y1 = cx - mask_size[0] // 2, cy - mask_size[1] // 2\n",
    "    x2, y2 = x1 + mask_size[0], y1 + mask_size[1]\n",
    "    img_masked[y1:y2, x1:x2] = (0, 0, 0) \n",
    "    return img_masked\n",
    "\n",
    "location = 'images/birds.jpg'\n",
    "img = Image.open(location)\n",
    "img_array = np.array(img)\n",
    "\n",
    "horizontal_flip, vertical_flip = flip_img_(img)\n",
    "\n",
    "img_with_noise_array = add_noise(img_array, 40)\n",
    "\n",
    "bright_red = brighten_channel(img_array, channel=0, brightness=40)\n",
    "\n",
    "masked_image = apply_mask(img_array)\n",
    "\n",
    "Image.fromarray(horizontal_flip).save(\"images/horizontal_flip.jpg\")\n",
    "Image.fromarray(vertical_flip).save(\"images/vertical_flip.jpg\")\n",
    "Image.fromarray(img_with_noise_array).save(\"images/noisy_image.jpg\")\n",
    "Image.fromarray(bright_red).save(\"images/bright_red.jpg\")\n",
    "Image.fromarray(masked_image).save(\"images/masked_image.jpg\")\n",
    "\n",
    "Image.fromarray(horizontal_flip).show()\n",
    "Image.fromarray(vertical_flip).show()\n",
    "Image.fromarray(img_with_noise_array).show()\n",
    "Image.fromarray(bright_red).show()\n",
    "Image.fromarray(masked_image).show()"
   ]
  }
 ],
 "metadata": {
  "kernelspec": {
   "display_name": "Python 3",
   "language": "python",
   "name": "python3"
  },
  "language_info": {
   "codemirror_mode": {
    "name": "ipython",
    "version": 3
   },
   "file_extension": ".py",
   "mimetype": "text/x-python",
   "name": "python",
   "nbconvert_exporter": "python",
   "pygments_lexer": "ipython3",
   "version": "3.10.11"
  }
 },
 "nbformat": 4,
 "nbformat_minor": 2
}
