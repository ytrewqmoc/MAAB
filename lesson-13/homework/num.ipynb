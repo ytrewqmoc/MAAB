{
 "cells": [
  {
   "cell_type": "code",
   "execution_count": 39,
   "metadata": {},
   "outputs": [],
   "source": [
    "import numpy as np\n",
    "\n"
   ]
  },
  {
   "cell_type": "code",
   "execution_count": 40,
   "metadata": {},
   "outputs": [],
   "source": [
    "vector = np.arange(10, 50)\n",
    "\n"
   ]
  },
  {
   "cell_type": "code",
   "execution_count": 41,
   "metadata": {},
   "outputs": [],
   "source": [
    "matrix_3x3 = np.arange(9).reshape(3, 3)"
   ]
  },
  {
   "cell_type": "code",
   "execution_count": 42,
   "metadata": {},
   "outputs": [],
   "source": [
    "arr3 = np.eye(3, dtype=int)\n"
   ]
  },
  {
   "cell_type": "code",
   "execution_count": 43,
   "metadata": {},
   "outputs": [],
   "source": [
    "arr4 = np.random.rand(3, 3, 3)\n"
   ]
  },
  {
   "cell_type": "code",
   "execution_count": 44,
   "metadata": {},
   "outputs": [
    {
     "name": "stdout",
     "output_type": "stream",
     "text": [
      "MIN: 1\n",
      "MAX: 96\n"
     ]
    }
   ],
   "source": [
    "arr5 = np.random.randint(0, 100, size=(10, 10))\n",
    "\n",
    "print(f\"MIN: {np.min(arr5)}\")\n",
    "print(f\"MAX: {np.max(arr5)}\")"
   ]
  },
  {
   "cell_type": "code",
   "execution_count": 45,
   "metadata": {},
   "outputs": [
    {
     "name": "stdout",
     "output_type": "stream",
     "text": [
      "Normalized: [[0.13186813 0.         1.         0.71428571 0.92307692]\n",
      " [0.83516484 0.36263736 0.1978022  0.49450549 0.        ]\n",
      " [0.95604396 0.68131868 0.75824176 0.37362637 0.87912088]\n",
      " [0.1978022  0.8021978  0.89010989 0.02197802 0.25274725]\n",
      " [0.46153846 0.25274725 0.01098901 0.91208791 0.84615385]]\n"
     ]
    }
   ],
   "source": [
    "arr7 = np.random.randint(0, 100, size=(5, 5))\n",
    "min = np.min(arr7)\n",
    "max = np.max(arr7)\n",
    "norm = (arr7 - min) / (max - min)\n",
    "print(f\"Normalized: {norm}\")\n"
   ]
  },
  {
   "cell_type": "code",
   "execution_count": 46,
   "metadata": {},
   "outputs": [
    {
     "name": "stdout",
     "output_type": "stream",
     "text": [
      "Mean: 492.3333333333333\n"
     ]
    }
   ],
   "source": [
    "arr6 = np.random.randint(0, 1000, size=30)\n",
    "print(f\"Mean: {np.mean(arr6)}\")"
   ]
  },
  {
   "cell_type": "code",
   "execution_count": 47,
   "metadata": {},
   "outputs": [
    {
     "name": "stdout",
     "output_type": "stream",
     "text": [
      "Product: [[ 5720  7774]\n",
      " [10212 15936]\n",
      " [10966 16112]\n",
      " [ 4540  6860]\n",
      " [ 6522 10476]]\n"
     ]
    }
   ],
   "source": [
    "a8 = np.random.randint(0, 100, size=(5, 3))\n",
    "b8 = np.random.randint(0, 100, size=(3, 2))\n",
    "\n",
    "print(f\"Product: {np.dot(a8, b8)}\")"
   ]
  },
  {
   "cell_type": "code",
   "execution_count": 48,
   "metadata": {},
   "outputs": [
    {
     "name": "stdout",
     "output_type": "stream",
     "text": [
      "Product: [[10588  2503  2283]\n",
      " [ 4160   150   142]\n",
      " [ 5484  4156  4048]]\n"
     ]
    }
   ],
   "source": [
    "a9 = np.random.randint(0, 100, size=(3, 3))\n",
    "b9 = np.random.randint(0, 100, size=(3, 3))\n",
    "print(f\"Product: {np.dot(a9, b9)}\")"
   ]
  },
  {
   "cell_type": "code",
   "execution_count": 49,
   "metadata": {},
   "outputs": [
    {
     "name": "stdout",
     "output_type": "stream",
     "text": [
      "Transposed: [[1 4 6 2]\n",
      " [4 0 6 1]\n",
      " [9 6 7 1]\n",
      " [5 6 0 3]]\n"
     ]
    }
   ],
   "source": [
    "arr10 = np.random.randint(0, 10, size=(4, 4))\n",
    "print(f\"Transposed: {np.transpose(arr10)}\")"
   ]
  },
  {
   "cell_type": "code",
   "execution_count": 50,
   "metadata": {},
   "outputs": [
    {
     "name": "stdout",
     "output_type": "stream",
     "text": [
      "Determinant: 161.99999999999994\n"
     ]
    }
   ],
   "source": [
    "arr11 = np.random.randint(0, 10, size=(3, 3))\n",
    "print(f\"Determinant: {np.linalg.det(arr11)}\")"
   ]
  },
  {
   "cell_type": "code",
   "execution_count": 51,
   "metadata": {},
   "outputs": [],
   "source": [
    "a12 = np.random.randint(0, 100, size=(3, 4))\n",
    "b12 = np.random.randint(0, 100, size=(4, 3))\n"
   ]
  },
  {
   "cell_type": "code",
   "execution_count": 52,
   "metadata": {},
   "outputs": [],
   "source": [
    "a13 = np.random.randint(0, 100, size=(3, 3))\n",
    "b13 = np.random.randint(0, 100, size=(3, 1))"
   ]
  },
  {
   "cell_type": "code",
   "execution_count": 53,
   "metadata": {},
   "outputs": [
    {
     "name": "stdout",
     "output_type": "stream",
     "text": [
      "Solution: [[-0.91277225]\n",
      " [ 1.44802586]\n",
      " [ 1.83172291]]\n"
     ]
    }
   ],
   "source": [
    "print(f\"Solution: {np.linalg.solve(a13, b13)}\")"
   ]
  },
  {
   "cell_type": "code",
   "execution_count": 54,
   "metadata": {},
   "outputs": [
    {
     "name": "stdout",
     "output_type": "stream",
     "text": [
      "Row sum: [210 384 277 131 193]\n",
      "Column sum: [233 104 195 338 325]\n"
     ]
    }
   ],
   "source": [
    "arr15 = np.random.randint(0, 100, size=(5, 5))\n",
    "\n",
    "print(f\"Row sum: {np.sum(arr15, axis=1)}\")\n",
    "print(f\"Column sum: {np.sum(arr15, axis=0)}\")"
   ]
  }
 ],
 "metadata": {
  "kernelspec": {
   "display_name": "Python 3",
   "language": "python",
   "name": "python3"
  },
  "language_info": {
   "codemirror_mode": {
    "name": "ipython",
    "version": 3
   },
   "file_extension": ".py",
   "mimetype": "text/x-python",
   "name": "python",
   "nbconvert_exporter": "python",
   "pygments_lexer": "ipython3",
   "version": "3.10.11"
  }
 },
 "nbformat": 4,
 "nbformat_minor": 2
}
